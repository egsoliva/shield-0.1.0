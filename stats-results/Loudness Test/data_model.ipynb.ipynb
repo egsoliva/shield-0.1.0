{
 "cells": [
  {
   "cell_type": "raw",
   "id": "c99c9772-96e6-40e5-a9f6-a5e5fb9ce8c2",
   "metadata": {},
   "source": [
    "## Comparing dB in Different Distances and Conditions"
   ]
  },
  {
   "cell_type": "raw",
   "id": "d2779da2-f151-48e2-b7c6-4d33c3392c32",
   "metadata": {},
   "source": [
    "#### Table of Raw Data"
   ]
  },
  {
   "cell_type": "raw",
   "id": "4e8f38e4-b576-4115-a254-52e8a567f66f",
   "metadata": {},
   "source": [
    "print(data)"
   ]
  },
  {
   "cell_type": "raw",
   "id": "4278713d-1280-44b0-b963-2c7f0cc2dbcf",
   "metadata": {},
   "source": [
    "#### Scatter Plot"
   ]
  },
  {
   "cell_type": "raw",
   "id": "7cb2e827-18e7-4762-810a-d39ed9555278",
   "metadata": {},
   "source": [
    "distance = data['Distance']\n",
    "decibel = data['dB']\n",
    "medium = data['Condition']\n",
    "\n",
    "color_map = {\n",
    "    \"Uncovered\": \"red\",\n",
    "    \"Concrete\": \"green\",\n",
    "    \"Wood\": \"yellow\",\n",
    "    \"Cardboard\": \"blue\"\n",
    "}\n",
    "\n",
    "for condition, color in color_map.items():\n",
    "    subset = data[data[\"Condition\"] == condition]\n",
    "    plt.scatter(\n",
    "        subset[\"Distance\"], \n",
    "        subset[\"dB\"], \n",
    "        label=condition, \n",
    "        color=color, \n",
    "        alpha=0.7\n",
    "    )\n",
    "\n",
    "distance_list = distance.tolist()\n",
    "decibel_list = decibel.tolist()\n",
    "\n",
    "x = np.array(distance_list)\n",
    "y = np.array(decibel_list)\n",
    "\n",
    "plt.title('Scatter Plot')\n",
    "plt.xticks([0, 1, 5, 10])\n",
    "plt.xlabel('Distance (m)')\n",
    "plt.ylabel('dB')\n",
    "plt.legend(title=\"Condition\")\n",
    "plt.show()"
   ]
  },
  {
   "cell_type": "raw",
   "id": "f2d41c96-7d69-4fba-9c9f-8edf5c2022bd",
   "metadata": {},
   "source": [
    "#### ANOVA Table"
   ]
  },
  {
   "cell_type": "raw",
   "id": "b2c301d6-6850-44d4-ae00-9bd2bef006cb",
   "metadata": {},
   "source": [
    "model = ols('dB ~ C(Distance) + C(Condition) + C(Distance):C(Condition)', data=data).fit()\n",
    "table = sm.stats.anova_lm(model, typ=2) \n",
    "print(table)"
   ]
  },
  {
   "cell_type": "raw",
   "id": "91550876-11cd-480f-8be5-fe0f8842596b",
   "metadata": {},
   "source": [
    "### When to Reject Null Hypothesis?"
   ]
  },
  {
   "cell_type": "raw",
   "id": "f0a32e27-1fec-4d00-8c7d-b2aeb471f544",
   "metadata": {},
   "source": [
    ">In a two-factor problem, the null hypothesis will be tested against the α-level of significance under factors A, B, and AB. It will be reject iff the computed f-value is greater than the critical value."
   ]
  },
  {
   "cell_type": "raw",
   "id": "cfa57be5-77dd-4f69-b379-644bf08b9132",
   "metadata": {},
   "source": [
    "Since our computed values as shown in the third column are greater than their critical values. We can say that the dB of the speaker **varies significantly** when subjected to **different distances and mediums**. "
   ]
  },
  {
   "cell_type": "raw",
   "id": "e542621b-a4a6-4100-9827-72e06db961e4",
   "metadata": {},
   "source": []
  }
 ],
 "metadata": {
  "kernelspec": {
   "display_name": "Python 3 (ipykernel)",
   "language": "python",
   "name": "python3"
  },
  "language_info": {
   "codemirror_mode": {
    "name": "ipython",
    "version": 3
   },
   "file_extension": ".py",
   "mimetype": "text/x-python",
   "name": "python",
   "nbconvert_exporter": "python",
   "pygments_lexer": "ipython3",
   "version": "3.12.1"
  }
 },
 "nbformat": 4,
 "nbformat_minor": 5
}
